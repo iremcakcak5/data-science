{
 "cells": [
  {
   "cell_type": "code",
   "execution_count": 28,
   "metadata": {},
   "outputs": [],
   "source": [
    "from sklearn.neighbors import KNeighborsClassifier\n",
    "from sklearn.model_selection import train_test_split\n",
    "from sklearn.preprocessing import OneHotEncoder\n",
    "from sklearn.compose import make_column_transformer\n",
    "from sklearn.metrics import accuracy_score\n",
    "from sklearn.preprocessing import MinMaxScaler\n",
    "from seaborn import load_dataset\n",
    "from sklearn.metrics import accuracy_score, classification_report, confusion_matrix\n",
    "import seaborn as sns\n",
    "import matplotlib.pyplot as plt"
   ]
  },
  {
   "cell_type": "markdown",
   "metadata": {},
   "source": [
    "-  from sklearn.datasets import make_blobs:sentetik veri kümeleri oluşturmaya yönelik birçok araç"
   ]
  },
  {
   "cell_type": "markdown",
   "metadata": {},
   "source": [
    "### Bölünmüş verilerle K-En Yakın Komşular (KNN) modeli oluşturmak aşağıdaki adımları içerir:\n",
    "\n",
    "1. Gerekli kütüphaneleri içe aktarın.\n",
    "2. Veri kümesini yükleyin ve ön işleme tabi tutun.\n",
    "3. Veri kümesini eğitim ve test kümelerine bölün.\n",
    "4. Eğitim verilerini kullanarak KNN modelini oluşturun ve eğitin.\n",
    "5. Test verilerini kullanarak modelin performansını değerlendirin.\n",
    "\n"
   ]
  },
  {
   "cell_type": "code",
   "execution_count": 29,
   "metadata": {},
   "outputs": [
    {
     "name": "stdout",
     "output_type": "stream",
     "text": [
      "  species     island  bill_length_mm  bill_depth_mm  flipper_length_mm  \\\n",
      "0  Adelie  Torgersen            39.1           18.7              181.0   \n",
      "1  Adelie  Torgersen            39.5           17.4              186.0   \n",
      "2  Adelie  Torgersen            40.3           18.0              195.0   \n",
      "3  Adelie  Torgersen             NaN            NaN                NaN   \n",
      "4  Adelie  Torgersen            36.7           19.3              193.0   \n",
      "\n",
      "   body_mass_g     sex  \n",
      "0       3750.0    Male  \n",
      "1       3800.0  Female  \n",
      "2       3250.0  Female  \n",
      "3          NaN     NaN  \n",
      "4       3450.0  Female  \n"
     ]
    }
   ],
   "source": [
    "df = load_dataset('penguins')\n",
    "print(df.head())\n"
   ]
  },
  {
   "cell_type": "markdown",
   "metadata": {},
   "source": [
    "### Penguins veri kümesi açıklama\n",
    "- species:Penguen türleri\n",
    "- island:Penguenin verilerinin alındığı ada\n",
    "- bill-length_mm:Milimetre cinsinden ölçülen penguen gagasının uzunluğu\n",
    "- bill_depth_mm:Milimetre cinsinden ölçülen penguen gagasının derinliği\n",
    "- flipper_length_mm:Penguenin yüzgecinin milimetre cinsinden ölçülen uzunluğu\n",
    "- body_mass_g:Penguenin gram cinsinden kütlesi\n",
    "- sex:penguenin cinsiyeti"
   ]
  },
  {
   "cell_type": "code",
   "execution_count": 30,
   "metadata": {},
   "outputs": [],
   "source": [
    "# Veri dataframe ve hedefe bölme\n",
    "df = df.dropna()\n",
    "X = df.select_dtypes(include='number')\n",
    "y = df['species']"
   ]
  },
  {
   "cell_type": "code",
   "execution_count": 31,
   "metadata": {},
   "outputs": [],
   "source": [
    "#Verileri Eğitim ve Test Veri Kümelerine Bölmek\n",
    "X_train, X_test, y_train, y_test = train_test_split(X, y, random_state = 100)\n",
    "knn_model=KNeighborsClassifier(n_neighbors=5)"
   ]
  },
  {
   "cell_type": "code",
   "execution_count": 32,
   "metadata": {},
   "outputs": [],
   "source": [
    "clf = KNeighborsClassifier(p=1)\n",
    "#Model eğitme\n",
    "clf.fit(X_train, y_train)\n",
    "#KNN Sınıflandırıcılarına İlişkin Tahminler\n",
    "predictions = clf.predict(X_test)\n",
    "knn_model.fit(X_train,y_train)\n",
    "#tahmin yapma\n",
    "y_pred=knn_model.predict(X_test)"
   ]
  },
  {
   "cell_type": "code",
   "execution_count": 33,
   "metadata": {},
   "outputs": [
    {
     "name": "stdout",
     "output_type": "stream",
     "text": [
      "Accuracy: 78.57%\n"
     ]
    }
   ],
   "source": [
    "\n",
    "accuracy = accuracy_score(y_test, y_pred)\n",
    "print(\"Accuracy: {:.2f}%\".format(accuracy * 100))"
   ]
  },
  {
   "cell_type": "code",
   "execution_count": 34,
   "metadata": {},
   "outputs": [
    {
     "name": "stdout",
     "output_type": "stream",
     "text": [
      "Classification Report:\n",
      "              precision    recall  f1-score   support\n",
      "\n",
      "      Adelie       0.70      0.82      0.76        34\n",
      "   Chinstrap       0.64      0.41      0.50        17\n",
      "      Gentoo       0.94      0.94      0.94        33\n",
      "\n",
      "    accuracy                           0.79        84\n",
      "   macro avg       0.76      0.72      0.73        84\n",
      "weighted avg       0.78      0.79      0.78        84\n",
      "\n",
      "Confusion Matrix:\n",
      "[[28  4  2]\n",
      " [10  7  0]\n",
      " [ 2  0 31]]\n"
     ]
    }
   ],
   "source": [
    "# Display the classification report and confusion matrix.\n",
    "\n",
    "print(\"Classification Report:\")\n",
    "\n",
    "print(classification_report(y_test, y_pred))\n",
    "\n",
    "print(\"Confusion Matrix:\")\n",
    "\n",
    "print(confusion_matrix(y_test, y_pred))"
   ]
  },
  {
   "cell_type": "code",
   "execution_count": 35,
   "metadata": {},
   "outputs": [
    {
     "data": {
      "image/png": "[encoded data removed]",
      "text/plain": [
       "<Figure size 640x480 with 2 Axes>"
      ]
     },
     "metadata": {},
     "output_type": "display_data"
    }
   ],
   "source": [
    "# Visualize Confusion Matrix as a heatmap\n",
    "conf_matrix = confusion_matrix(y_test, y_pred)\n",
    "labels = sorted(y_test.unique())  # Assuming y_test and y_pred are Pandas Series\n",
    "sns.heatmap(conf_matrix, annot=True, fmt='d', cmap='Blues', xticklabels=labels, yticklabels=labels)\n",
    "plt.title('Confusion Matrix')\n",
    "plt.xlabel('Predicted Label')\n",
    "plt.ylabel('True Label')\n",
    "plt.show()\n"
   ]
  }
 ],
 "metadata": {
  "kernelspec": {
   "display_name": "myenv",
   "language": "python",
   "name": "python3"
  },
  "language_info": {
   "codemirror_mode": {
    "name": "ipython",
    "version": 3
   },
   "file_extension": ".py",
   "mimetype": "text/x-python",
   "name": "python",
   "nbconvert_exporter": "python",
   "pygments_lexer": "ipython3",
   "version": "3.12.0"
  }
 },
 "nbformat": 4,
 "nbformat_minor": 2
}
